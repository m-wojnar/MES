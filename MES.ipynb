{
 "cells": [
  {
   "cell_type": "markdown",
   "metadata": {},
   "source": [
    "# Metoda elementów skończonych dla zwyczajnych równań różniczkowych liniowych drugiego rzędu"
   ]
  },
  {
   "cell_type": "markdown",
   "metadata": {},
   "source": [
    "Dane jest równanie różniczkowe postaci"
   ]
  },
  {
   "cell_type": "markdown",
   "metadata": {},
   "source": [
    "$$\n",
    "(a(x)u'(x))'+b(x)u'(x)+c(x)u(x)=f(x)\n",
    "$$"
   ]
  },
  {
   "cell_type": "markdown",
   "metadata": {},
   "source": [
    "z warunkami Dirichleta na końcach przedziałów"
   ]
  },
  {
   "cell_type": "markdown",
   "metadata": {},
   "source": [
    "$$\n",
    "u(l)=u_l\n",
    "$$\n",
    "$$\n",
    "u(r)=u_r\n",
    "$$"
   ]
  },
  {
   "cell_type": "markdown",
   "metadata": {},
   "source": [
    "Funkcje $a(x)$, $b(x)$, $c(x)$, $f(x)$ powinny być określone na przedziale $[l, r]$. Dla uproszczenia, funkcje $a(x)$, $b(x)$, $c(x)$, $f(x)$, $u(x)$, $v(x)$  zapisuję jako $a$, $b$, $c$, $f$, $u$, $v$."
   ]
  },
  {
   "cell_type": "markdown",
   "metadata": {},
   "source": [
    "## 1. Sformułowanie wariacyjne"
   ]
  },
  {
   "cell_type": "markdown",
   "metadata": {},
   "source": [
    "Znaleźć funkcję $u$ spełniającą dane warunki Dirichleta oraz równanie:"
   ]
  },
  {
   "cell_type": "markdown",
   "metadata": {},
   "source": [
    "$$\n",
    "\\int_{l}^{r} ((au')'+bu'+cu) \\cdot v \\: dx = \\int_{l}^{r} f \\cdot v \\: dx\n",
    "$$\n",
    "$$\n",
    "\\int_{l}^{r} (au')'v \\: dx + \\int_{l}^{r} bu'v \\: dx + \\int_{l}^{r} cuv \\: dx = \\int_{l}^{r} fv \\: dx\n",
    "$$"
   ]
  },
  {
   "cell_type": "markdown",
   "metadata": {},
   "source": [
    "Całkując przez części pierwszy wyraz sumy otrzymujemy"
   ]
  },
  {
   "cell_type": "markdown",
   "metadata": {},
   "source": [
    "$$\n",
    "au' v \\: \\Biggr|_{l} ^{r} - \\int_{l}^{r} au'v' \\: dx + \\int_{l}^{r} bu'v \\: dx + \\int_{l}^{r} cuv \\: dx = \\int_{l}^{r} fv \\: dx\n",
    "$$"
   ]
  },
  {
   "cell_type": "markdown",
   "metadata": {},
   "source": [
    "Mamy dane warunki brzegowe Dirichleta, zatem funcje testowe $v$ będą zerowały się na końcach przedziału"
   ]
  },
  {
   "cell_type": "markdown",
   "metadata": {},
   "source": [
    "$$\n",
    "- \\int_{l}^{r} au'v' \\: dx + \\int_{l}^{r} bu'v \\: dx + \\int_{l}^{r} cuv \\: dx = \\int_{l}^{r} fv \\: dx\n",
    "$$"
   ]
  },
  {
   "cell_type": "markdown",
   "metadata": {},
   "source": [
    "Otrzymujemy równanie postaci $ B(u,v)=L(v)$, gdzie"
   ]
  },
  {
   "cell_type": "markdown",
   "metadata": {},
   "source": [
    "$$\n",
    "B(u,v)= - \\int_{l}^{r} au'v' \\: dx + \\int_{l}^{r} bu'v \\: dx + \\int_{l}^{r} cuv \\: dx \n",
    "$$"
   ]
  },
  {
   "cell_type": "markdown",
   "metadata": {},
   "source": [
    "$$\n",
    "L(v)= \\int_{l}^{r} fv \\: dx\n",
    "$$"
   ]
  },
  {
   "cell_type": "markdown",
   "metadata": {},
   "source": [
    "## 2. Funkcje testowe"
   ]
  },
  {
   "cell_type": "markdown",
   "metadata": {},
   "source": [
    "Dla $i=1,2,…,n-1$:"
   ]
  },
  {
   "cell_type": "markdown",
   "metadata": {},
   "source": [
    "$$\n",
    "e_{i}(x)=\\left\\{\\begin{array}{ll}\n",
    "\\frac{x-x_{i-1}}{x_{i}-x_{i-1}} & \\text { dla } x \\in\\left(x_{i-1}, x_{i}\\right) \\\\\n",
    "\\frac{x_{i+1}-x}{x_{i+1}-x_{i}} & \\text { dla } x \\in\\left(x_{i}, x_{i+1}\\right) \\\\\n",
    "0 & \\text { w p.p. }\n",
    "\\end{array}\\right.\n",
    "$$"
   ]
  },
  {
   "cell_type": "markdown",
   "metadata": {},
   "source": [
    "$$\n",
    "e_{i}^\\prime(x)=\\left\\{\\begin{array}{ll}\n",
    "\\frac{1}{x_{i}-x_{i-1}} & \\text { dla } x \\in\\left(x_{i-1}, x_{i}\\right) \\\\\n",
    "\\frac{-1}{x_{i+1}-x_{i}} & \\text { dla } x \\in\\left(x_{i}, x_{i+1}\\right) \\\\\n",
    "0 & \\text { w p.p. }\n",
    "\\end{array}\\right.\n",
    "$$"
   ]
  },
  {
   "cell_type": "markdown",
   "metadata": {},
   "source": [
    "## 3. Problem przybliżony"
   ]
  },
  {
   "cell_type": "markdown",
   "metadata": {},
   "source": [
    "Niech $V_h=\\langle e_1,…,e_{n-1} \\rangle \\subset V$. Poszukujemy $u \\in V_{h}$ spełniającego $\\forall v_{h} \\in V_{h}: \\ B(u, v_{h}) =L(v_{h})$. Przybliżamy $ u $ przez $u \\approx u_{h}=\\sum_{i=1}^{n-1} u_{i} e_{i} $."
   ]
  },
  {
   "cell_type": "markdown",
   "metadata": {},
   "source": [
    "Otrzymujemy układ równań:"
   ]
  },
  {
   "cell_type": "markdown",
   "metadata": {},
   "source": [
    "$$\n",
    "B\\left(u_h, v_{j}\\right)=L\\left(v_{j}\\right) \\quad j=1,…,n-1\n",
    "$$\n",
    "$$\n",
    "B\\left(\\sum_{i=1}^{n-1} u_{i} e_{i}, v_{j}\\right)=L\\left(v_{j}\\right) \\quad j=1,…,n-1\n",
    "$$\n",
    "$$\n",
    "\\sum_{i=1}^{n-1} \\left(u_{i} B\\left(e_{i}, v_{j}\\right) \\right)=L\\left(v_{j}\\right) \\quad j=1,…,n-1\n",
    "$$"
   ]
  },
  {
   "cell_type": "markdown",
   "metadata": {},
   "source": [
    "W postaci macierzowej:"
   ]
  },
  {
   "cell_type": "markdown",
   "metadata": {},
   "source": [
    "$$\n",
    "\\left[\\begin{array}{ccccc}\n",
    "B\\left(e_{1}, v_{1}\\right) & B\\left(e_{2}, v_{1}\\right) & &  \\cdots & & B\\left(e_{n-2}, v_{1}\\right) & B\\left(e_{n-1}, v_{1}\\right) \\\\\n",
    "B\\left(e_{1}, v_{2}\\right) & B\\left(e_{2}, v_{2}\\right) & & & &  B\\left(e_{n-2}, v_{2}\\right) & B\\left(e_{n-1}, v_{2}\\right) \\\\\n",
    "\\vdots & & & \\ddots & & & \\vdots  \\\\\n",
    "B\\left(e_{1}, v_{n-2}\\right) & B\\left(e_{2}, v_{n-2}\\right) & & & &  B\\left(e_{n-2}, v_{n-2}\\right) & B\\left(e_{n-1}, v_{n-2}\\right) \\\\\n",
    "B\\left(e_{1}, v_{n-1}\\right) & B\\left(e_{2}, v_{n-1}\\right) & &  \\cdots & &  B\\left(e_{n-2}, v_{n-1}\\right) & B\\left(e_{n-1}, v_{n-1}\\right)\n",
    "\\end{array}\\right]\\left[\\begin{array}{c}\n",
    "u_{1} \\\\\n",
    "u_{2} \\\\\n",
    "\\vdots \\\\\n",
    "u_{n-2} \\\\\n",
    "u_{n-1}\n",
    "\\end{array}\\right]=\\left[\\begin{array}{c}\n",
    "L\\left(v_{1}\\right) \\\\\n",
    "L\\left(v_{2}\\right) \\\\\n",
    "\\vdots \\\\\n",
    "L\\left(v_{n-2}\\right) \\\\\n",
    "L\\left(v_{n-1}\\right)\n",
    "\\end{array}\\right]\n",
    "$$"
   ]
  },
  {
   "cell_type": "markdown",
   "metadata": {},
   "source": [
    "Niech $v_{j}=e_{j}, \\ \\ j=1,…,n-1$:"
   ]
  },
  {
   "cell_type": "markdown",
   "metadata": {},
   "source": [
    "$$\n",
    "\\left[\\begin{array}{ccccc}\n",
    "B\\left(e_{1}, e_{1}\\right) & B\\left(e_{2}, e_{1}\\right) & &  \\cdots & & B\\left(e_{n-2}, e_{1}\\right) & B\\left(e_{n-1}, e_{1}\\right) \\\\\n",
    "B\\left(e_{1}, e_{2}\\right) & B\\left(e_{2}, e_{2}\\right) & & & &  B\\left(e_{n-2}, e_{2}\\right) & B\\left(e_{n-1}, e_{2}\\right) \\\\\n",
    "\\vdots & & & \\ddots & & & \\vdots  \\\\\n",
    "B\\left(e_{1}, e_{n-2}\\right) & B\\left(e_{2}, e_{n-2}\\right) & & & &  B\\left(e_{n-2}, e_{n-2}\\right) & B\\left(e_{n-1}, e_{n-2}\\right) \\\\\n",
    "B\\left(e_{1}, e_{n-1}\\right) & B\\left(e_{2}, e_{n-1}\\right) & &  \\cdots & &  B\\left(e_{n-2}, e_{n-1}\\right) & B\\left(e_{n-1}, e_{n-1}\\right)\n",
    "\\end{array}\\right]\\left[\\begin{array}{c}\n",
    "u_{1} \\\\\n",
    "u_{2} \\\\\n",
    "\\vdots \\\\\n",
    "u_{n-2} \\\\\n",
    "u_{n-1}\n",
    "\\end{array}\\right]=\\left[\\begin{array}{c}\n",
    "L\\left(e_{1}\\right) \\\\\n",
    "L\\left(e_{2}\\right) \\\\\n",
    "\\vdots \\\\\n",
    "L\\left(e_{n-2}\\right) \\\\\n",
    "L\\left(e_{n-1}\\right)\n",
    "\\end{array}\\right]\n",
    "$$"
   ]
  },
  {
   "cell_type": "markdown",
   "metadata": {},
   "source": [
    "Analizując funkcje testowe $e$ oraz $B(e_i,e_j)$ można zauważyć, że $B(e_i,e_j)$ jest równe $0$ jeśli $j\\notin \\{i-1,i,i+1 \\}$. Otrzymujemy ostatecznie układ równań:"
   ]
  },
  {
   "cell_type": "markdown",
   "metadata": {},
   "source": [
    "$$\n",
    "\\left[\\begin{array}{cccccc}\n",
    "B\\left(e_{1}, e_{1}\\right) & B\\left(e_{2}, e_{1}\\right) & 0 & && & \\\\\n",
    "B\\left(e_{1}, e_{2}\\right) & B\\left(e_{2}, e_{2}\\right) & B\\left(e_{3}, e_{2}\\right) & \\ldots &  0 & && & \\\\\n",
    "0 & B\\left(e_{2}, e_{3}\\right) & B\\left(e_{3}, e_{3}\\right) & && & \\\\\n",
    "&\\vdots  && \\ddots &&  \\vdots \\\\\n",
    "& && & B\\left(e_{n-3}, e_{n-3}\\right) & B\\left(e_{n-2}, e_{n-3}\\right) & 0 \\\\\n",
    "& 0 & \\ldots & B\\left(e_{n-3}, e_{n-2}\\right) & B\\left(e_{n-2}, e_{n-2}\\right) & B\\left(e_{n-1}, e_{n-2}\\right) \\\\\n",
    "& && & 0 & B\\left(e_{n-2}, e_{n-1}\\right) & B\\left(e_{n-1}, e_{n-1}\\right)\n",
    "\\end{array}\\right]\\left[\\begin{array}{c}\n",
    "u_{1} \\\\\n",
    "u_{2} \\\\\n",
    "u_{3} \\\\\n",
    "\\vdots \\\\\n",
    "u_{n-3} \\\\\n",
    "u_{n-2} \\\\\n",
    "u_{n-1}\n",
    "\\end{array}\\right]=\\left[\\begin{array}{c}\n",
    "L(e_1) \\\\\n",
    "L(e_2) \\\\\n",
    "L(e_3) \\\\\n",
    "\\vdots \\\\\n",
    "L(e_{n-3}) \\\\\n",
    "L(e_{n-2}) \\\\\n",
    "L(e_{n-1})\n",
    "\\end{array}\\right]\n",
    "$$"
   ]
  },
  {
   "cell_type": "markdown",
   "metadata": {},
   "source": [
    "## 4. Rozwiązanie numeryczne w języku R"
   ]
  },
  {
   "cell_type": "markdown",
   "metadata": {},
   "source": [
    "Poniżej przykładowe rozwiązanie dla równania"
   ]
  },
  {
   "cell_type": "markdown",
   "metadata": {},
   "source": [
    "$$\n",
    "(x^{2}u'(x))'-2u(x)=x^{3}sin(x)\n",
    "$$\n",
    "\n",
    "$$\n",
    "x^{2}u''(x)+2xu'(x)-2u(x)=x^{3}sin(x)\n",
    "$$"
   ]
  },
  {
   "cell_type": "markdown",
   "metadata": {},
   "source": [
    "na przedziale $[0, 20]$ z warunkami brzegowymi $u(0) = 2$ oraz $u(20) = 45$."
   ]
  },
  {
   "cell_type": "markdown",
   "metadata": {},
   "source": [
    "Parametry równania:"
   ]
  },
  {
   "cell_type": "code",
   "execution_count": 1,
   "metadata": {},
   "outputs": [],
   "source": [
    "# wprowadź granice obszaru\n",
    "left <- 0\n",
    "right <- 20\n",
    "\n",
    "# wprowadź ilość elementów\n",
    "n <- 500\n",
    "\n",
    "# wprowadź warunki początkowe\n",
    "u_l = 2\n",
    "u_r = 45\n",
    "\n",
    "# wprowadź funkcje\n",
    "a <- function(x) {\n",
    "    return (x * x)\n",
    "}\n",
    "\n",
    "b <- function(x) {\n",
    "    return (0)\n",
    "}\n",
    "\n",
    "c <- function(x) {\n",
    "    return (-2)\n",
    "}\n",
    "\n",
    "f <- function(x) {\n",
    "    return (sin(x) * x * x * x)\n",
    "}"
   ]
  },
  {
   "cell_type": "markdown",
   "metadata": {},
   "source": [
    "Funkcje testowe:"
   ]
  },
  {
   "cell_type": "code",
   "execution_count": 2,
   "metadata": {},
   "outputs": [],
   "source": [
    "e <- function(i, x) {\n",
    "    xi <- left + ((i - 1) * (right - left)) / n\n",
    "    xj <- left + (i * (right - left)) / n\n",
    "    xk <- left + ((i + 1) * (right - left)) / n\n",
    "        \n",
    "    if (xi <= x && x < xj) {\n",
    "        return ((x - xi) / (xj - xi))\n",
    "    } \n",
    "    else if (xj <= x && x <= xk) {\n",
    "        return ((xk - x) / (xk - xj))\n",
    "    }\n",
    "    else {\n",
    "        return (0)\n",
    "    }\n",
    "}"
   ]
  },
  {
   "cell_type": "code",
   "execution_count": 3,
   "metadata": {},
   "outputs": [],
   "source": [
    "e_der <- function(i, x) {\n",
    "    xi <- left + ((i - 1) * (right - left)) / n\n",
    "    xj <- left + (i * (right - left)) / n\n",
    "    xk <- left + ((i + 1) * (right - left)) / n\n",
    "        \n",
    "    if (xi <= x && x < xj) {\n",
    "        return (1 / (xj - xi))\n",
    "    } \n",
    "    else if (xj <= x && x <= xk) {\n",
    "        return (-1 / (xk - xj))\n",
    "    }\n",
    "    else {\n",
    "        return (0)   \n",
    "    }\n",
    "}"
   ]
  },
  {
   "cell_type": "markdown",
   "metadata": {},
   "source": [
    "Funkcja $ B(u,v) $ i $L(v)$ (ograniczam granice całkowania do przedziałów, w których funkcje testowe są nizerowe, aby otrzymać większą dokładność obliczeń):"
   ]
  },
  {
   "cell_type": "code",
   "execution_count": 4,
   "metadata": {},
   "outputs": [],
   "source": [
    "B <- function(i, j) {\n",
    "    r <- left + ((max(i, j) + 1) * (right - left)) / n\n",
    "    l <- left + ((min(i, j) - 1) * (right - left)) / n\n",
    "\n",
    "    val1 <- integrate(Vectorize(function(x) { return (-a(x) * e_der(i, x) * e_der(j, x)) }), max(left, l), min(right, r))\n",
    "    val2 <- integrate(Vectorize(function(x) { return (b(x) * e_der(i, x) * e(j, x)) }), max(left, l), min(right, r))\n",
    "    val3 <- integrate(Vectorize(function(x) { return (c(x) * e(i, x) * e(j, x)) }), max(left, l), min(right, r))\n",
    "    \n",
    "    return (val1$value + val2$value + val3$value)\n",
    "}"
   ]
  },
  {
   "cell_type": "code",
   "execution_count": 5,
   "metadata": {},
   "outputs": [],
   "source": [
    "L <- function(i) {\n",
    "    r <- left + ((i + 1) * (right - left)) / n\n",
    "    l <- left + ((i - 1) * (right - left)) / n\n",
    "\n",
    "    val <- integrate(Vectorize(function(x) { return (e(i, x) * f(x)) }), max(left, l), min(right, r))\n",
    "    \n",
    "    return (val$value)\n",
    "}"
   ]
  },
  {
   "cell_type": "markdown",
   "metadata": {},
   "source": [
    "Wektor wyrazów wolnych:"
   ]
  },
  {
   "cell_type": "code",
   "execution_count": 6,
   "metadata": {},
   "outputs": [],
   "source": [
    "l <- rep(0, n - 1)\n",
    "\n",
    "for (i in 1:(n - 1)) {\n",
    "    l[i] <- L(i)\n",
    "}"
   ]
  },
  {
   "cell_type": "markdown",
   "metadata": {},
   "source": [
    "Macierz główna układu:"
   ]
  },
  {
   "cell_type": "code",
   "execution_count": 7,
   "metadata": {},
   "outputs": [],
   "source": [
    "library(Matrix)\n",
    "\n",
    "A <- Matrix(0, n - 1, n - 1, sparse = TRUE)\n",
    "\n",
    "A[1, 1] <- B(1, 1)\n",
    "A[1, 2] <- B(2, 1)\n",
    "\n",
    "for (i in 2:(n - 2)) {\n",
    "    A[i, i - 1] <- B(i - 1, i)\n",
    "    A[i, i] <- B(i, i)\n",
    "    A[i, i + 1] <- B(i + 1, i)\n",
    "}\n",
    "     \n",
    "A[n - 1, n - 2] <- B(n - 2, n - 1)\n",
    "A[n - 1, n - 1] <- B(n - 1, n - 1)"
   ]
  },
  {
   "cell_type": "markdown",
   "metadata": {},
   "source": [
    "Rozwiązanie układu:"
   ]
  },
  {
   "cell_type": "code",
   "execution_count": 8,
   "metadata": {},
   "outputs": [],
   "source": [
    "uh <- solve(A, l)"
   ]
  },
  {
   "cell_type": "markdown",
   "metadata": {},
   "source": [
    "Funkcja będąca rozwiązaniem danego równania:"
   ]
  },
  {
   "cell_type": "code",
   "execution_count": 9,
   "metadata": {},
   "outputs": [],
   "source": [
    "slope <- (u_l - u_r) / (left - right)\n",
    "h <- (right - left) / n\n",
    "\n",
    "u <- function (x) {\n",
    "    i <- floor((x - left) / h)\n",
    "    val <- 0\n",
    "    \n",
    "    if (i > 0) {\n",
    "        val <- val + uh[i] * e(i, x)   \n",
    "    }\n",
    "    if (i < n) {\n",
    "        val <- val + uh[i + 1] * e(i + 1, x)\n",
    "    }\n",
    "    \n",
    "    return (slope * (x - left) + u_l + val)\n",
    "}"
   ]
  },
  {
   "cell_type": "markdown",
   "metadata": {},
   "source": [
    "Graficzna reprezentacja rozwiązania:"
   ]
  },
  {
   "cell_type": "code",
   "execution_count": 10,
   "metadata": {},
   "outputs": [
    {
     "data": {
      "image/png": "[encoded data removed]",
      "text/plain": [
       "plot without title"
      ]
     },
     "metadata": {
      "image/png": {
       "height": 420,
       "width": 420
      }
     },
     "output_type": "display_data"
    }
   ],
   "source": [
    "num_of_points = 400\n",
    "\n",
    "x <- seq(left, right, (right - left) / num_of_points)\n",
    "y <- rep(0, num_of_points + 1)\n",
    "index <- 1\n",
    "\n",
    "for (i in x) {\n",
    "    y[index] = u(i)\n",
    "    index <- index + 1\n",
    "}\n",
    "\n",
    "plot(x, y, type = \"l\")"
   ]
  }
 ],
 "metadata": {
  "kernelspec": {
   "display_name": "R",
   "language": "R",
   "name": "ir"
  },
  "language_info": {
   "codemirror_mode": "r",
   "file_extension": ".r",
   "mimetype": "text/x-r-source",
   "name": "R",
   "pygments_lexer": "r",
   "version": "4.0.4"
  }
 },
 "nbformat": 4,
 "nbformat_minor": 4
}
